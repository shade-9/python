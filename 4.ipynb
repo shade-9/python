{
  "nbformat": 4,
  "nbformat_minor": 0,
  "metadata": {
    "colab": {
      "provenance": [],
      "authorship_tag": "ABX9TyPKZXNQPZyHQbb8dSs0bwyw",
      "include_colab_link": true
    },
    "kernelspec": {
      "name": "python3",
      "display_name": "Python 3"
    },
    "language_info": {
      "name": "python"
    }
  },
  "cells": [
    {
      "cell_type": "markdown",
      "metadata": {
        "id": "view-in-github",
        "colab_type": "text"
      },
      "source": [
        "<a href=\"https://colab.research.google.com/github/shade-9/python/blob/main/4.ipynb\" target=\"_parent\"><img src=\"https://colab.research.google.com/assets/colab-badge.svg\" alt=\"Open In Colab\"/></a>"
      ]
    },
    {
      "cell_type": "code",
      "execution_count": null,
      "metadata": {
        "colab": {
          "base_uri": "https://localhost:8080/"
        },
        "id": "kjkIMOnbeN8q",
        "outputId": "0b4b58e8-53bd-4a74-a3f1-f63b64aafaf8"
      },
      "outputs": [
        {
          "output_type": "stream",
          "name": "stdout",
          "text": [
            "Amit Kumar\n"
          ]
        }
      ],
      "source": [
        "def my_function(fname,lname):\n",
        "  print(fname+ \" \" + lname)\n",
        "\n",
        "my_function(\"Amit\", \"Kumar\")"
      ]
    },
    {
      "cell_type": "code",
      "source": [
        "def my_function(fname, lname):\n",
        "  print(fname + \" \" + lname)\n",
        "\n",
        "my_function(\"Emil\",\"Ross\")"
      ],
      "metadata": {
        "colab": {
          "base_uri": "https://localhost:8080/"
        },
        "id": "UuL9G2k2fHEl",
        "outputId": "21b6f2cd-216a-47dc-daaa-9fd3df026f10"
      },
      "execution_count": 1,
      "outputs": [
        {
          "output_type": "stream",
          "name": "stdout",
          "text": [
            "Emil Ross\n"
          ]
        }
      ]
    },
    {
      "cell_type": "code",
      "source": [
        "def my_function(*kids):\n",
        "    print(\"The youngest child is \" + kids[2])\n",
        "\n",
        "my_function(\"Emil\", \"Tobias\", \"Linus\")"
      ],
      "metadata": {
        "id": "TM26CnsVgdYK",
        "colab": {
          "base_uri": "https://localhost:8080/"
        },
        "outputId": "d170e1cf-59a5-4bcf-f5a1-8350d4b8b71a"
      },
      "execution_count": null,
      "outputs": [
        {
          "output_type": "stream",
          "name": "stdout",
          "text": [
            "The youngest child is Linus\n"
          ]
        }
      ]
    },
    {
      "cell_type": "code",
      "source": [
        "def my_function(college3, college2, college1):\n",
        "  print(\"The Best college is \" + college3)\n",
        "\n",
        "my_function(\"Harvard\", \"Yale\", \"Cornell\")"
      ],
      "metadata": {
        "id": "LZXVRrb9iGPK",
        "colab": {
          "base_uri": "https://localhost:8080/"
        },
        "outputId": "66f1b373-154f-40db-dc1a-e702b42f5fbc"
      },
      "execution_count": 2,
      "outputs": [
        {
          "output_type": "stream",
          "name": "stdout",
          "text": [
            "The Best college is Harvard\n"
          ]
        }
      ]
    },
    {
      "cell_type": "code",
      "source": [
        "\n",
        "def my_function(country= \"Norway\"):\n",
        "  print(\"I am from \" + country)\n",
        "\n",
        "my_function(\"Sweden\")\n",
        "my_function(\"India\")\n",
        "my_function()\n",
        "my_function(\"Brazil\")\n",
        "\n"
      ],
      "metadata": {
        "id": "1gHGNL9yil5J",
        "colab": {
          "base_uri": "https://localhost:8080/"
        },
        "outputId": "a695bff7-92a3-4117-968b-6e929332482d"
      },
      "execution_count": null,
      "outputs": [
        {
          "output_type": "stream",
          "name": "stdout",
          "text": [
            "I am from Sweden\n",
            "I am from India\n",
            "I am from Norway\n",
            "I am from Brazil\n"
          ]
        }
      ]
    },
    {
      "cell_type": "code",
      "source": [
        "def tri_recursion(k):\n",
        "      if(k > 0):\n",
        "        result = k + tri_recursion(k - 1)\n",
        "        print(result)\n",
        "      else:\n",
        "        result = 0\n",
        "      return result\n",
        "      print(\"Recursion Example Results\")\n",
        "\n",
        "\n",
        "tri_recursion(6)\n"
      ],
      "metadata": {
        "id": "PNQsUwMJjaah",
        "colab": {
          "base_uri": "https://localhost:8080/"
        },
        "outputId": "9fb1cf6c-a011-440c-e866-c7d338c304f4"
      },
      "execution_count": null,
      "outputs": [
        {
          "output_type": "stream",
          "name": "stdout",
          "text": [
            "1\n",
            "3\n",
            "6\n",
            "10\n",
            "15\n",
            "21\n"
          ]
        },
        {
          "output_type": "execute_result",
          "data": {
            "text/plain": [
              "21"
            ]
          },
          "metadata": {},
          "execution_count": 20
        }
      ]
    },
    {
      "cell_type": "code",
      "source": [
        "print((lambda x: x*2) (9))"
      ],
      "metadata": {
        "id": "CEFDtBY1yAXC",
        "colab": {
          "base_uri": "https://localhost:8080/"
        },
        "outputId": "85cb02fa-52dd-4a4d-b386-b27d670e1d64"
      },
      "execution_count": null,
      "outputs": [
        {
          "output_type": "stream",
          "name": "stdout",
          "text": [
            "18\n"
          ]
        }
      ]
    },
    {
      "cell_type": "code",
      "source": [
        "twice = lambda x: x*2\n",
        "print(twice(9))"
      ],
      "metadata": {
        "id": "oxLyAlO2Y6iu",
        "colab": {
          "base_uri": "https://localhost:8080/"
        },
        "outputId": "2ba5c11b-57f3-46bb-f5dd-af7859a44adc"
      },
      "execution_count": null,
      "outputs": [
        {
          "output_type": "stream",
          "name": "stdout",
          "text": [
            "18\n"
          ]
        }
      ]
    },
    {
      "cell_type": "code",
      "source": [
        "def my_func(string):\n",
        "  Palindrome = string[::-1]\n",
        "  print(Palindrome)\n",
        "\n",
        "my_func(\"desserts\")"
      ],
      "metadata": {
        "id": "hyiSrPPuZAMr",
        "colab": {
          "base_uri": "https://localhost:8080/"
        },
        "outputId": "2eabb6ad-9859-449e-c452-4c5bf3a09bcc"
      },
      "execution_count": null,
      "outputs": [
        {
          "output_type": "stream",
          "name": "stdout",
          "text": [
            "stressed\n"
          ]
        }
      ]
    },
    {
      "cell_type": "code",
      "source": [
        "def is_Palindrome(s):\n",
        "  if len(s)>4:\n",
        "    if s[0] == s[-1]:\n",
        "      return True and is_Palindrome(s[1:-1])\n",
        "    else:\n",
        "      return False\n",
        "  elif len(s)==4:\n",
        "    if s[0]==s[3] and s[1]==s[2]:\n",
        "      return True\n",
        "    else:\n",
        "      return False\n",
        "  else:\n",
        "    if s[0]==s[2]:\n",
        "      return True\n",
        "    else:\n",
        "      return False\n",
        "\n",
        "x = str(input(\"Enter string to check if palindrome: \"))\n",
        "x = x.replace(\" \",'')\n",
        "if is_Palindrome(x)==True:\n",
        "  print(\"String is a palindrome\")\n",
        "else:\n",
        "  print('String is not a palindrome')"
      ],
      "metadata": {
        "id": "nnX4D33s70TZ",
        "colab": {
          "base_uri": "https://localhost:8080/"
        },
        "outputId": "d5d366da-af71-4009-8a16-2f815d350e5b"
      },
      "execution_count": null,
      "outputs": [
        {
          "output_type": "stream",
          "name": "stdout",
          "text": [
            "Enter string to check if palindrome: do geese see god\n",
            "String is a palindrome\n"
          ]
        }
      ]
    },
    {
      "cell_type": "code",
      "source": [
        "num_list = []\n",
        "while True:\n",
        "  i = (input(\"Enter number or enter 'a' to end: \"))\n",
        "  if i == 'a':\n",
        "    break\n",
        "  else:\n",
        "    num_list.append(int(i))\n",
        "oddnumbers = list(filter(lambda x: x%2!=0, num_list))\n",
        "evennumbers = list(filter(lambda x: x%2==0, num_list))\n",
        "\n",
        "print(\"Odd Numbers:\",oddnumbers)\n",
        "print(\"Even Numbers:\",evennumbers)"
      ],
      "metadata": {
        "colab": {
          "base_uri": "https://localhost:8080/"
        },
        "id": "jWLY_c4VJYgU",
        "outputId": "18329953-f4a1-4203-8a17-0419418f6768"
      },
      "execution_count": null,
      "outputs": [
        {
          "output_type": "stream",
          "name": "stdout",
          "text": [
            "Enter number or enter 'a' to end: 1\n",
            "Enter number or enter 'a' to end: 2\n",
            "Enter number or enter 'a' to end: 3\n",
            "Enter number or enter 'a' to end: 4\n",
            "Enter number or enter 'a' to end: 5\n",
            "Enter number or enter 'a' to end: 6\n",
            "Enter number or enter 'a' to end: 7\n",
            "Enter number or enter 'a' to end: a\n",
            "Odd Numbers: [1, 3, 5, 7]\n",
            "Even Numbers: [2, 4, 6]\n"
          ]
        }
      ]
    },
    {
      "cell_type": "code",
      "source": [
        "def fact(n):\n",
        "  if n == 1:\n",
        "    return 1\n",
        "  else:\n",
        "    return n*fact(n-1)\n",
        "\n",
        "print(fact(5))\n",
        "print(fact(7))\n",
        "print(fact(9))"
      ],
      "metadata": {
        "colab": {
          "base_uri": "https://localhost:8080/"
        },
        "id": "7x7HG3W6KSJ8",
        "outputId": "71e2cc3b-57ab-4d5e-f710-694419a8bbbb"
      },
      "execution_count": null,
      "outputs": [
        {
          "output_type": "stream",
          "name": "stdout",
          "text": [
            "120\n",
            "5040\n",
            "362880\n"
          ]
        }
      ]
    },
    {
      "cell_type": "code",
      "source": [],
      "metadata": {
        "id": "v7rhdSiAOJux"
      },
      "execution_count": null,
      "outputs": []
    }
  ]
}
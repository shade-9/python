{
  "nbformat": 4,
  "nbformat_minor": 0,
  "metadata": {
    "colab": {
      "provenance": [],
      "authorship_tag": "ABX9TyOEumBpACFkbaqU+uBgQohI",
      "include_colab_link": true
    },
    "kernelspec": {
      "name": "python3",
      "display_name": "Python 3"
    },
    "language_info": {
      "name": "python"
    }
  },
  "cells": [
    {
      "cell_type": "markdown",
      "metadata": {
        "id": "view-in-github",
        "colab_type": "text"
      },
      "source": [
        "<a href=\"https://colab.research.google.com/github/shade-9/python/blob/main/Basics_of_Python.ipynb\" target=\"_parent\"><img src=\"https://colab.research.google.com/assets/colab-badge.svg\" alt=\"Open In Colab\"/></a>"
      ]
    },
    {
      "cell_type": "code",
      "execution_count": null,
      "metadata": {
        "id": "nPaDbvnxpUoh"
      },
      "outputs": [],
      "source": []
    },
    {
      "cell_type": "code",
      "source": [
        "print(\"hello world\")"
      ],
      "metadata": {
        "colab": {
          "base_uri": "https://localhost:8080/"
        },
        "id": "aQGrUXavpfyW",
        "outputId": "c311f341-545a-4716-a070-e4d41143f1f6"
      },
      "execution_count": null,
      "outputs": [
        {
          "output_type": "stream",
          "name": "stdout",
          "text": [
            "hello world\n"
          ]
        }
      ]
    },
    {
      "cell_type": "code",
      "source": [
        "t1= 88\n"
      ],
      "metadata": {
        "id": "A3UFwUQ2pjVR"
      },
      "execution_count": null,
      "outputs": []
    },
    {
      "cell_type": "code",
      "source": [
        "print(\"hello\",t1)"
      ],
      "metadata": {
        "id": "O0ea0T9gp-ku",
        "outputId": "86976138-acfd-4092-c099-9c48d8d035a4",
        "colab": {
          "base_uri": "https://localhost:8080/"
        }
      },
      "execution_count": null,
      "outputs": [
        {
          "output_type": "stream",
          "name": "stdout",
          "text": [
            "hello 88\n"
          ]
        }
      ]
    },
    {
      "cell_type": "code",
      "source": [
        "a=10\n",
        "b=6\n",
        "print(\"a=\",a)\n",
        "print(\"b=\",b)\n",
        "s=a+b\n",
        "print(\"sum is=\",s)\n",
        "d=a-b\n",
        "print(\"Difference is=\",d)\n",
        "p=a*b\n",
        "print(\"product is=\",p)\n",
        "pow=a**b\n",
        "print(\"pow is=\",pow)"
      ],
      "metadata": {
        "id": "UIBPLbOLqBQ_",
        "colab": {
          "base_uri": "https://localhost:8080/"
        },
        "outputId": "ca6b01d5-a8cc-4cce-c9e7-aaa019769e21"
      },
      "execution_count": null,
      "outputs": [
        {
          "output_type": "stream",
          "name": "stdout",
          "text": [
            "a= 10\n",
            "b= 6\n",
            "sum is= 16\n",
            "Difference is= 4\n",
            "product is= 60\n",
            "pow is= 1000000\n"
          ]
        }
      ]
    },
    {
      "cell_type": "code",
      "source": [
        "name = input(\"Enter your name:\")\n",
        "print(\"Hello \",name)"
      ],
      "metadata": {
        "colab": {
          "base_uri": "https://localhost:8080/"
        },
        "id": "heU0Xu9prvVW",
        "outputId": "69ea6bf4-06c1-46a7-c73b-c4e5292a6b0f"
      },
      "execution_count": null,
      "outputs": [
        {
          "output_type": "stream",
          "name": "stdout",
          "text": [
            "Enter your name:suman\n",
            "Hello  suman\n"
          ]
        }
      ]
    },
    {
      "cell_type": "code",
      "source": [
        "a=int(input(\"Enter first number:\"))\n",
        "b=int(input(\"Enter second number:\"))\n",
        "sum = a+b\n",
        "prod = a*b\n",
        "diff = a-b\n",
        "print(\"sum\",sum)\n",
        "print(\"prod\",prod)\n",
        "print(\"diff\",diff)\n"
      ],
      "metadata": {
        "colab": {
          "base_uri": "https://localhost:8080/"
        },
        "id": "KMrrzIfcsAS7",
        "outputId": "ae82fa64-2829-4446-df2a-2d63b074685a"
      },
      "execution_count": null,
      "outputs": [
        {
          "output_type": "stream",
          "name": "stdout",
          "text": [
            "Enter first number:6\n",
            "Enter second number:7\n",
            "sum 13\n",
            "prod 42\n",
            "diff -1\n"
          ]
        }
      ]
    },
    {
      "cell_type": "code",
      "source": [
        "r=int(input(\"Enter radius of circle:\"))\n",
        "\n",
        "area = 3.14*r*r\n",
        "\n",
        "print(\"Area is=\", area)"
      ],
      "metadata": {
        "colab": {
          "base_uri": "https://localhost:8080/"
        },
        "id": "EgEX8gxgsxP3",
        "outputId": "7bfa4bc2-8515-4e56-80b9-827b336cc7e1"
      },
      "execution_count": null,
      "outputs": [
        {
          "output_type": "stream",
          "name": "stdout",
          "text": [
            "Enter radius of circle:5\n",
            "Area is= 78.5\n"
          ]
        }
      ]
    },
    {
      "cell_type": "code",
      "source": [
        "pr_amt= int(input(\"Enter principle amount:\"))\n",
        "r = int(input(\"Enter rate of interest:\"))\n",
        "time = int(input(\"Enter duration:\"))\n",
        "\n",
        "interest = (pr_amt*r*time)/100\n",
        "\n",
        "print(\"Interest is =\", interest)"
      ],
      "metadata": {
        "colab": {
          "base_uri": "https://localhost:8080/"
        },
        "id": "Sphgmii6uLvw",
        "outputId": "90b49892-c7e8-4189-ead0-dc25f5b5ffec"
      },
      "execution_count": null,
      "outputs": [
        {
          "output_type": "stream",
          "name": "stdout",
          "text": [
            "Enter principle amount:1000\n",
            "Enter rate of interest:4\n",
            "Enter duration:12\n",
            "Interest is = 480.0\n"
          ]
        }
      ]
    },
    {
      "cell_type": "code",
      "source": [
        "sales_amt = float(input(\"Enter sales amount:\"))\n",
        "dis_rate = float(input(\"Enter discount rate\"))\n",
        "tax = float(input(\"Enter the tax rate:\"))\n",
        "\n",
        "dis_amt = sales_amt - (sales_amt*dis_rate)/100\n",
        "\n",
        "tax_amt = (sales_amt*tax)/100\n",
        "\n",
        "final_amt = dis_amt + tax_amt\n",
        "\n",
        "print(\"Final amount is =\", final_amt)"
      ],
      "metadata": {
        "colab": {
          "base_uri": "https://localhost:8080/"
        },
        "id": "I4a1maBqvuXr",
        "outputId": "9fdbad69-db99-4604-f780-5878b64f8449"
      },
      "execution_count": null,
      "outputs": [
        {
          "output_type": "stream",
          "name": "stdout",
          "text": [
            "Enter sales amount:900\n",
            "Enter discount rate10\n",
            "Enter the tax rate:18\n",
            "Final amount is = 972.0\n"
          ]
        }
      ]
    },
    {
      "cell_type": "code",
      "source": [
        "deg_F = float(input(\"Enter temp is Fahrenheit:\"))\n",
        "\n",
        "deg_C = ((deg_F-32)/9)*5\n",
        "\n",
        "print(\"Temp in Celsius =\", deg_C)"
      ],
      "metadata": {
        "colab": {
          "base_uri": "https://localhost:8080/"
        },
        "id": "GioV6OwuxOiw",
        "outputId": "229df062-4cb7-49b4-a92f-f9b828c2d8e0"
      },
      "execution_count": null,
      "outputs": [
        {
          "output_type": "stream",
          "name": "stdout",
          "text": [
            "Enter temp is Fahrenheit:89\n",
            "Temp in Celsius = 31.666666666666664\n"
          ]
        }
      ]
    },
    {
      "cell_type": "code",
      "source": [
        "basic_sal = float(input(\"Enter basic salary:\"))\n",
        "HRA = float(input(\"Enter HRA amount:\"))\n",
        "TA = float(input(\"Enter TA amount\"))\n",
        "\n",
        "gross_sal = basic_sal + (basic_sal*HRA) + (basic_sal*TA)\n",
        "\n",
        "print(\"Gross salary is =\", gross_sal)"
      ],
      "metadata": {
        "colab": {
          "base_uri": "https://localhost:8080/"
        },
        "id": "U30eE8XZzqfd",
        "outputId": "82dbfca6-0ef4-4201-acdf-60e1dc5a3102"
      },
      "execution_count": null,
      "outputs": [
        {
          "output_type": "stream",
          "name": "stdout",
          "text": [
            "Enter basic salary:100000\n",
            "Enter HRA amount:0.1\n",
            "Enter TA amount0.05\n",
            "Gross salary is = 115000.0\n"
          ]
        }
      ]
    },
    {
      "cell_type": "code",
      "source": [
        "a=int(input(\"Enter number 1:\"))\n",
        "b=int(input(\"Enter number 2:\"))\n",
        "if a > b:\n",
        "  print(a, \"is maximum\")\n",
        "else:\n",
        "  print(b, \"is maximum\")"
      ],
      "metadata": {
        "colab": {
          "base_uri": "https://localhost:8080/"
        },
        "id": "Hw9JUr1Y1Bv3",
        "outputId": "4d17096a-c951-4f6d-d93d-f89075700e0e"
      },
      "execution_count": null,
      "outputs": [
        {
          "output_type": "stream",
          "name": "stdout",
          "text": [
            "Enter number 1:34\n",
            "Enter number 2:56\n",
            "56 is maximum\n"
          ]
        }
      ]
    },
    {
      "cell_type": "code",
      "source": [
        "M1 = int(input(\"Enter marks of 1st student:\"))\n",
        "M2 = int(input(\"Enter marks of 2nd student:\"))\n",
        "M3 = int(input(\"Enter marks of 3rd student:\"))\n",
        "M4 = int(input(\"Enter marks of 4th student:\"))\n",
        "M5 = int(input(\"Enter marks of 5th student:\"))\n",
        "\n",
        "Mean = (M1 + M2 + M3 + M4 + M5)/5\n",
        "\n",
        "variance = ((M1-Mean)**2 + (M2-Mean)**2 + (M3-Mean)**2 +(M4-Mean)**2 + (M5-Mean)**2)/5\n",
        "\n",
        "print(\"Mean of marks is=\", Mean)\n",
        "print(\"Variance of marks is=\", variance)"
      ],
      "metadata": {
        "colab": {
          "base_uri": "https://localhost:8080/"
        },
        "id": "TPkkWMec1nJe",
        "outputId": "07692be0-e0d7-4552-c914-f9ddf906174c"
      },
      "execution_count": null,
      "outputs": [
        {
          "output_type": "stream",
          "name": "stdout",
          "text": [
            "Enter marks of 1st student:45\n",
            "Enter marks of 2nd student:67\n",
            "Enter marks of 3rd student:77\n",
            "Enter marks of 4th student:54\n",
            "Enter marks of 5th student:39\n",
            "Mean of marks is= 56.4\n",
            "Variance of marks is= 195.04000000000002\n"
          ]
        }
      ]
    },
    {
      "cell_type": "code",
      "source": [
        "a = int(input(\"Enter 1st number:\"))\n",
        "b = int(input(\"Enter 2nd number:\"))\n",
        "\n",
        "a= a+b\n",
        "b= a-b\n",
        "a= a-b\n",
        "\n",
        "print(a)\n",
        "print(b)"
      ],
      "metadata": {
        "colab": {
          "base_uri": "https://localhost:8080/"
        },
        "id": "zQeRQPf75hUK",
        "outputId": "bd6c53fb-d7c0-49f5-e7c6-206ffeed65da"
      },
      "execution_count": null,
      "outputs": [
        {
          "output_type": "stream",
          "name": "stdout",
          "text": [
            "Enter 1st number:5\n",
            "Enter 2nd number:6\n",
            "6\n",
            "5\n"
          ]
        }
      ]
    },
    {
      "cell_type": "code",
      "source": [
        "n = int(input(\"Enter Number:\"))\n",
        "\n",
        "rem = n%2\n",
        "\n",
        "if rem==0:\n",
        "  print(\"n is even\")\n",
        "else:\n",
        "  print(\"n is odd\")"
      ],
      "metadata": {
        "colab": {
          "base_uri": "https://localhost:8080/"
        },
        "id": "Gm4zVgix60kb",
        "outputId": "342d70b0-5590-4e0c-ba77-be10e9573b82"
      },
      "execution_count": null,
      "outputs": [
        {
          "output_type": "stream",
          "name": "stdout",
          "text": [
            "Enter Number:10\n",
            "n is even\n"
          ]
        }
      ]
    },
    {
      "cell_type": "code",
      "source": [],
      "metadata": {
        "id": "W-feccC69hAd"
      },
      "execution_count": null,
      "outputs": []
    }
  ]
}
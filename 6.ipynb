{
  "nbformat": 4,
  "nbformat_minor": 0,
  "metadata": {
    "colab": {
      "provenance": [],
      "authorship_tag": "ABX9TyO+ES7Qd40UwtqRPX93RQD1",
      "include_colab_link": true
    },
    "kernelspec": {
      "name": "python3",
      "display_name": "Python 3"
    },
    "language_info": {
      "name": "python"
    }
  },
  "cells": [
    {
      "cell_type": "markdown",
      "metadata": {
        "id": "view-in-github",
        "colab_type": "text"
      },
      "source": [
        "<a href=\"https://colab.research.google.com/github/shade-9/python/blob/main/6.ipynb\" target=\"_parent\"><img src=\"https://colab.research.google.com/assets/colab-badge.svg\" alt=\"Open In Colab\"/></a>"
      ]
    },
    {
      "cell_type": "code",
      "execution_count": null,
      "metadata": {
        "id": "J074781d0CBy",
        "colab": {
          "base_uri": "https://localhost:8080/"
        },
        "outputId": "a05da259-4966-45c8-a041-b0a5c2929655"
      },
      "outputs": [
        {
          "output_type": "stream",
          "name": "stdout",
          "text": [
            "Enter Employee Id: 1601001\n",
            "Enter Employee Name: Abc\n",
            "Enter Employee Department: Computer\n",
            "Employee details added successfully.\n"
          ]
        }
      ],
      "source": [
        "def write_employee_details():\n",
        "    try:\n",
        "        with open(\"employeedetails.txt\", \"a\") as file:\n",
        "            emp_id = input(\"Enter Employee Id: \")\n",
        "            emp_name = input(\"Enter Employee Name: \")\n",
        "            emp_department = input(\"Enter Employee Department: \")\n",
        "\n",
        "            file.write(f\"{emp_id} {emp_name} {emp_department}\\n\")\n",
        "\n",
        "        print(\"Employee details added successfully.\")\n",
        "    except Exception as e:\n",
        "        print(f\"An error occurred: {e}\")\n",
        "\n",
        "\n",
        "write_employee_details()"
      ]
    },
    {
      "cell_type": "code",
      "source": [
        "write_employee_details()"
      ],
      "metadata": {
        "id": "5wyDzrS76Nr-",
        "colab": {
          "base_uri": "https://localhost:8080/"
        },
        "outputId": "9dfff6a6-1d83-41d0-f995-ab1120624aa5"
      },
      "execution_count": null,
      "outputs": [
        {
          "output_type": "stream",
          "name": "stdout",
          "text": [
            "Enter Employee Id: 1601003\n",
            "Enter Employee Name: Xyz\n",
            "Enter Employee Department: IT\n",
            "Employee details added successfully.\n"
          ]
        }
      ]
    },
    {
      "cell_type": "code",
      "source": [
        "write_employee_details()"
      ],
      "metadata": {
        "colab": {
          "base_uri": "https://localhost:8080/"
        },
        "id": "p2tWwDiRs_-l",
        "outputId": "4780f8eb-c8c6-479e-e6d7-009ed54fc226"
      },
      "execution_count": null,
      "outputs": [
        {
          "output_type": "stream",
          "name": "stdout",
          "text": [
            "Enter Employee Id: 1601007\n",
            "Enter Employee Name: Swe\n",
            "Enter Employee Department: Accounts\n",
            "Employee details added successfully.\n"
          ]
        }
      ]
    },
    {
      "cell_type": "code",
      "source": [
        "def read_and_print_uppercase():\n",
        "    try:\n",
        "        file_name = input(\"Enter the file name: \")\n",
        "\n",
        "        with open(file_name, \"r\") as file:\n",
        "            file_contents = file.read()\n",
        "            print(\"\\nContents of the file in uppercase:\")\n",
        "            print(file_contents.upper())\n",
        "    except FileNotFoundError:\n",
        "        print(f\"File '{file_name}' not found.\")\n",
        "    except Exception as e:\n",
        "        print(f\"An error occurred: {e}\")\n",
        "\n",
        "read_and_print_uppercase()"
      ],
      "metadata": {
        "colab": {
          "base_uri": "https://localhost:8080/"
        },
        "id": "KzEdVru9tZrp",
        "outputId": "667af754-b287-40f6-f19d-19f5c603bdd8"
      },
      "execution_count": null,
      "outputs": [
        {
          "output_type": "stream",
          "name": "stdout",
          "text": [
            "Enter the file name: Experiment 4\n",
            "File 'Experiment 4' not found.\n"
          ]
        }
      ]
    },
    {
      "cell_type": "code",
      "source": [],
      "metadata": {
        "id": "OrUOCA8BwbrE"
      },
      "execution_count": null,
      "outputs": []
    }
  ]
}
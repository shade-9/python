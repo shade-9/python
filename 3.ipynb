{
  "nbformat": 4,
  "nbformat_minor": 0,
  "metadata": {
    "colab": {
      "provenance": [],
      "authorship_tag": "ABX9TyMWwDoyxhr3BOk0y+BQb7bh",
      "include_colab_link": true
    },
    "kernelspec": {
      "name": "python3",
      "display_name": "Python 3"
    },
    "language_info": {
      "name": "python"
    }
  },
  "cells": [
    {
      "cell_type": "markdown",
      "metadata": {
        "id": "view-in-github",
        "colab_type": "text"
      },
      "source": [
        "<a href=\"https://colab.research.google.com/github/shade-9/python/blob/main/3.ipynb\" target=\"_parent\"><img src=\"https://colab.research.google.com/assets/colab-badge.svg\" alt=\"Open In Colab\"/></a>"
      ]
    },
    {
      "cell_type": "markdown",
      "source": [
        "Write a program to read the numbers until -1 is encountered. Also, count the number of prime numbers and composite numbers entered by the user"
      ],
      "metadata": {
        "id": "PpOeh2A7b2FZ"
      }
    },
    {
      "cell_type": "code",
      "execution_count": null,
      "metadata": {
        "colab": {
          "base_uri": "https://localhost:8080/"
        },
        "id": "X9vnAcz3a-Qa",
        "outputId": "36d9a35b-68cb-4c25-8e4f-d690e233425e"
      },
      "outputs": [
        {
          "output_type": "stream",
          "name": "stdout",
          "text": [
            "Enter start number here: 5\n",
            "Enter end number here: 16\n",
            "5\n",
            "6\n",
            "7\n",
            "8\n",
            "9\n",
            "10\n",
            "11\n",
            "12\n",
            "13\n",
            "14\n",
            "15\n",
            "16\n",
            " \n",
            "No. of prime numbers is  6\n",
            "No. of composite numbers is  6\n"
          ]
        }
      ],
      "source": [
        "start_no = int(input(\"Enter start number here: \"))\n",
        "last_no = int(input(\"Enter end number here: \"))\n",
        "\n",
        "count = start_no\n",
        "\n",
        "while start_no > -1 and count <= last_no:\n",
        "  print(count)\n",
        "  count = count + 1\n",
        "else:\n",
        "  print(\" \")\n",
        "\n",
        "prime = 0\n",
        "composite = 0\n",
        "\n",
        "for i in range(start_no, last_no+1):\n",
        "  if i%2 == 0:\n",
        "    composite = composite + 1\n",
        "\n",
        "  else:\n",
        "    prime = prime + 1\n",
        "\n",
        "print(\"No. of prime numbers is \", prime)\n",
        "print(\"No. of composite numbers is \", composite)"
      ]
    },
    {
      "cell_type": "markdown",
      "source": [
        "Write a program to check whether a number is Armstrong or not.\n",
        "(Armstrong number is a number that is equal to the sum of cubes of its digits for\n",
        "example: 153 = 1^3 + 5^3 + 3^3.)"
      ],
      "metadata": {
        "id": "WfMluaTBb1Ex"
      }
    },
    {
      "cell_type": "code",
      "source": [
        "number = int(input(\"Enter number here: \"))\n",
        "\n",
        "num_str = str(number)\n",
        "\n",
        "num_digits = len(num_str)\n",
        "\n",
        "sum = 0\n",
        "\n",
        "for digit_str in num_str:\n",
        "  digit = int(digit_str)\n",
        "  sum += digit ** num_digits\n",
        "if sum == number:\n",
        "  print(\"Number is Armstrong Number.\")\n",
        "else:\n",
        "  print(\"Number is not Armstrong Number.\")\n"
      ],
      "metadata": {
        "id": "AKiC8-WejEsP",
        "colab": {
          "base_uri": "https://localhost:8080/"
        },
        "outputId": "165c6d47-8b96-4126-8399-949d318603b6"
      },
      "execution_count": null,
      "outputs": [
        {
          "output_type": "stream",
          "name": "stdout",
          "text": [
            "Enter number here: 400\n",
            "Number is not Armstrong Number.\n"
          ]
        }
      ]
    },
    {
      "cell_type": "code",
      "source": [
        "age = int(input(\"Enter your age: \"))\n",
        "has_completed_driver_ed = input(\"Have you completed a driver's education course? (yes/no): \")\n",
        "\n",
        "if age >= 18:\n",
        "    print(\"You are eligible for a driver's license.\")\n",
        "else:\n",
        "    if age >= 16 and has_completed_driver_ed.lower() == \"yes\":\n",
        "        print(\"You are eligible for a driver's license.\")\n",
        "    else:\n",
        "        print(\"You are not eligible for a driver's license.\")\n"
      ],
      "metadata": {
        "id": "iwHpYoac5Xw0",
        "colab": {
          "base_uri": "https://localhost:8080/"
        },
        "outputId": "ce5bba02-0473-4812-aa54-4a263c63af56"
      },
      "execution_count": null,
      "outputs": [
        {
          "output_type": "stream",
          "name": "stdout",
          "text": [
            "Enter your age: 16\n",
            "Have you completed a driver's education course? (yes/no): no\n",
            "You are not eligible for a driver's license.\n"
          ]
        }
      ]
    },
    {
      "cell_type": "code",
      "source": [
        "for i in range(1, 11):\n",
        "    if i == 5:\n",
        "        print(\"Found the number 5, breaking out of the loop.\")\n",
        "        break\n",
        "    print(i)\n"
      ],
      "metadata": {
        "colab": {
          "base_uri": "https://localhost:8080/"
        },
        "id": "EMsSPfjQ-5Jj",
        "outputId": "01661fc2-3db1-43e0-e915-f85f393be38c"
      },
      "execution_count": null,
      "outputs": [
        {
          "output_type": "stream",
          "name": "stdout",
          "text": [
            "1\n",
            "2\n",
            "3\n",
            "4\n",
            "Found the number 5, breaking out of the loop.\n"
          ]
        }
      ]
    },
    {
      "cell_type": "code",
      "source": [
        "alpha_count = 0\n",
        "digit_count = 0\n",
        "\n",
        "i = input(\"Enter a string: \")\n",
        "\n",
        "for x in i:\n",
        "  if x.isalpha():\n",
        "    alpha_count += 1\n",
        "  elif x.isnumeric():\n",
        "    digit_count += 1\n",
        "\n",
        "print(f\"Number of alphabets = \", alpha_count)\n",
        "print(f\"Number of digits = \", digit_count)"
      ],
      "metadata": {
        "colab": {
          "base_uri": "https://localhost:8080/"
        },
        "id": "29rZVM9pAAdo",
        "outputId": "ea5344ff-2f7b-40ff-9535-2fe47e67ee2c"
      },
      "execution_count": null,
      "outputs": [
        {
          "output_type": "stream",
          "name": "stdout",
          "text": [
            "Enter a string: i ate 4 oranges\n",
            "Number of alphabets =  11\n",
            "Number of digits =  1\n"
          ]
        }
      ]
    },
    {
      "cell_type": "code",
      "source": [],
      "metadata": {
        "id": "LkhA9jJSCBTZ"
      },
      "execution_count": null,
      "outputs": []
    }
  ]
}
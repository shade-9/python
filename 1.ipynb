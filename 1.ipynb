{
  "nbformat": 4,
  "nbformat_minor": 0,
  "metadata": {
    "colab": {
      "provenance": [],
      "authorship_tag": "ABX9TyP2vTwIHptanW8Zg4pkrTS0",
      "include_colab_link": true
    },
    "kernelspec": {
      "name": "python3",
      "display_name": "Python 3"
    },
    "language_info": {
      "name": "python"
    }
  },
  "cells": [
    {
      "cell_type": "markdown",
      "metadata": {
        "id": "view-in-github",
        "colab_type": "text"
      },
      "source": [
        "<a href=\"https://colab.research.google.com/github/shade-9/python/blob/main/1.ipynb\" target=\"_parent\"><img src=\"https://colab.research.google.com/assets/colab-badge.svg\" alt=\"Open In Colab\"/></a>"
      ]
    },
    {
      "cell_type": "markdown",
      "source": [
        "1) Write a python program to calculate salary of an employee given his basic pay (to be entered by user), HRA = 10 percent of basic pay, TA = 5 percent of basic pay. Define HRA and TA as constants and use them to calculate the salary of the employee.\n",
        "\n"
      ],
      "metadata": {
        "id": "_h5edFCp8JDC"
      }
    },
    {
      "cell_type": "code",
      "execution_count": null,
      "metadata": {
        "colab": {
          "base_uri": "https://localhost:8080/"
        },
        "id": "yZEnEEQ16uLe",
        "outputId": "e7061845-baaa-4161-c0f6-17864c12b96a"
      },
      "outputs": [
        {
          "output_type": "stream",
          "name": "stdout",
          "text": [
            "Enter Basic pay of employee here:10000\n",
            "Salary of employee is:  11500.0\n"
          ]
        }
      ],
      "source": [
        "Basic_pay = int(input(\"Enter Basic pay of employee here:\"))\n",
        "HRA = 10\n",
        "TA = 5\n",
        "\n",
        "Salary = Basic_pay + 0.05*Basic_pay + 0.1*Basic_pay\n",
        "\n",
        "print(\"Salary of employee is: \",Salary)\n"
      ]
    },
    {
      "cell_type": "markdown",
      "source": [
        "2)  \n",
        "a) Create a variable and assign it the string “Python programming”\n",
        "    \n",
        "b) Access the character “i” from the variable by index and print it\n",
        "    \n",
        "c) Find the length of the string\n",
        "\n",
        "d) Print the slice “Python” from the variable\n",
        "\n",
        "e) Print the slice “program” from the variable\n",
        "\n",
        "f) Get the string “thing” from the variable\n",
        "\n",
        "g) Convert string into uppercase.\n",
        "\n",
        "h) Create another variable and assign it the string “is interesting”. Now concatenate   both the strings\n",
        "\n",
        "i) Apply different string methods given in table.\n",
        "\n",
        "\n",
        "\n",
        "\n",
        "\n",
        "\n",
        "\n",
        "\n",
        "     \n",
        "\n"
      ],
      "metadata": {
        "id": "gt7mesSM9Vxe"
      }
    },
    {
      "cell_type": "code",
      "source": [
        "my_string = \"Python Programming\"\n"
      ],
      "metadata": {
        "id": "yDM_2WIA9Blp"
      },
      "execution_count": null,
      "outputs": []
    },
    {
      "cell_type": "code",
      "source": [
        "print(my_string[15])"
      ],
      "metadata": {
        "colab": {
          "base_uri": "https://localhost:8080/"
        },
        "id": "Vh3AFi9n97tG",
        "outputId": "b4874f3d-e70e-4759-eaa8-dda8264d159b"
      },
      "execution_count": null,
      "outputs": [
        {
          "output_type": "stream",
          "name": "stdout",
          "text": [
            "i\n"
          ]
        }
      ]
    },
    {
      "cell_type": "code",
      "source": [
        "print(len(my_string))"
      ],
      "metadata": {
        "colab": {
          "base_uri": "https://localhost:8080/"
        },
        "id": "9Y9gkZVK-Bok",
        "outputId": "0592a191-9929-45ec-83bb-f8736f2a4f01"
      },
      "execution_count": null,
      "outputs": [
        {
          "output_type": "stream",
          "name": "stdout",
          "text": [
            "18\n"
          ]
        }
      ]
    },
    {
      "cell_type": "code",
      "source": [
        "print(my_string[0:6])"
      ],
      "metadata": {
        "colab": {
          "base_uri": "https://localhost:8080/"
        },
        "id": "UIdprIVL-MNE",
        "outputId": "498a2e8b-5037-4cf8-ab9e-b346f90cf4b8"
      },
      "execution_count": null,
      "outputs": [
        {
          "output_type": "stream",
          "name": "stdout",
          "text": [
            "Python\n"
          ]
        }
      ]
    },
    {
      "cell_type": "code",
      "source": [
        "print(my_string[7:14])"
      ],
      "metadata": {
        "colab": {
          "base_uri": "https://localhost:8080/"
        },
        "id": "2aKsk6VO-VQj",
        "outputId": "92e4c3b5-723f-4435-d926-19a8a4e6a102"
      },
      "execution_count": null,
      "outputs": [
        {
          "output_type": "stream",
          "name": "stdout",
          "text": [
            "Program\n"
          ]
        }
      ]
    },
    {
      "cell_type": "code",
      "source": [
        "print(my_string[2:4]+my_string[15:18])"
      ],
      "metadata": {
        "colab": {
          "base_uri": "https://localhost:8080/"
        },
        "id": "uErDEl94-fOz",
        "outputId": "aec3df2b-f9c3-4535-8157-d18fb8aca64b"
      },
      "execution_count": null,
      "outputs": [
        {
          "output_type": "stream",
          "name": "stdout",
          "text": [
            "thing\n"
          ]
        }
      ]
    },
    {
      "cell_type": "code",
      "source": [
        "print(my_string.upper())"
      ],
      "metadata": {
        "colab": {
          "base_uri": "https://localhost:8080/"
        },
        "id": "2Bi_GHFo_67f",
        "outputId": "608e6168-e628-40ac-8f05-774054c47d88"
      },
      "execution_count": null,
      "outputs": [
        {
          "output_type": "stream",
          "name": "stdout",
          "text": [
            "PYTHON PROGRAMMING\n"
          ]
        }
      ]
    },
    {
      "cell_type": "code",
      "source": [
        "my_string2 = \" is interesting\""
      ],
      "metadata": {
        "id": "IEAJpI0dAqmM"
      },
      "execution_count": null,
      "outputs": []
    },
    {
      "cell_type": "code",
      "source": [
        "string = my_string + my_string2"
      ],
      "metadata": {
        "id": "n7E0BKUmA2ZL"
      },
      "execution_count": null,
      "outputs": []
    },
    {
      "cell_type": "code",
      "source": [
        "print(string)"
      ],
      "metadata": {
        "colab": {
          "base_uri": "https://localhost:8080/"
        },
        "id": "1K28VqscA9_6",
        "outputId": "5ca02698-554a-4a53-88d7-a2c71e89bbbd"
      },
      "execution_count": null,
      "outputs": [
        {
          "output_type": "stream",
          "name": "stdout",
          "text": [
            "Python Programming is interesting\n"
          ]
        }
      ]
    },
    {
      "cell_type": "code",
      "source": [
        "print(string.title())"
      ],
      "metadata": {
        "colab": {
          "base_uri": "https://localhost:8080/"
        },
        "id": "9Jd-bjFQA_s6",
        "outputId": "09ae232a-d184-4491-ef8c-1292dabae1a4"
      },
      "execution_count": null,
      "outputs": [
        {
          "output_type": "stream",
          "name": "stdout",
          "text": [
            "Python Programming Is Interesting\n"
          ]
        }
      ]
    },
    {
      "cell_type": "code",
      "source": [
        "print(string.swapcase())"
      ],
      "metadata": {
        "colab": {
          "base_uri": "https://localhost:8080/"
        },
        "id": "FrR3DBQsBNUp",
        "outputId": "e15d7314-0542-4425-a041-73cab8559a35"
      },
      "execution_count": null,
      "outputs": [
        {
          "output_type": "stream",
          "name": "stdout",
          "text": [
            "pYTHON pROGRAMMING IS INTERESTING\n"
          ]
        }
      ]
    },
    {
      "cell_type": "code",
      "source": [
        "print(string.isnumeric())"
      ],
      "metadata": {
        "colab": {
          "base_uri": "https://localhost:8080/"
        },
        "id": "dTCre4rDBbhZ",
        "outputId": "9b583e02-3524-4129-bc04-48f5cca69329"
      },
      "execution_count": null,
      "outputs": [
        {
          "output_type": "stream",
          "name": "stdout",
          "text": [
            "False\n"
          ]
        }
      ]
    },
    {
      "cell_type": "code",
      "source": [
        "print(string.islower())"
      ],
      "metadata": {
        "colab": {
          "base_uri": "https://localhost:8080/"
        },
        "id": "JelHGihPBlP3",
        "outputId": "5f120737-b18d-4103-a3dd-d199c90dee22"
      },
      "execution_count": null,
      "outputs": [
        {
          "output_type": "stream",
          "name": "stdout",
          "text": [
            "False\n"
          ]
        }
      ]
    },
    {
      "cell_type": "code",
      "source": [
        "print(string.endswith(\"ing\"))"
      ],
      "metadata": {
        "colab": {
          "base_uri": "https://localhost:8080/"
        },
        "id": "8FR7LLArCI9G",
        "outputId": "3c3e390d-1c9c-4ecd-f6c2-6675ab00f68e"
      },
      "execution_count": null,
      "outputs": [
        {
          "output_type": "stream",
          "name": "stdout",
          "text": [
            "True\n"
          ]
        }
      ]
    },
    {
      "cell_type": "code",
      "source": [],
      "metadata": {
        "id": "-dH9xjzFCWVm"
      },
      "execution_count": null,
      "outputs": []
    }
  ]
}
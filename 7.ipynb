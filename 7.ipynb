{
  "nbformat": 4,
  "nbformat_minor": 0,
  "metadata": {
    "colab": {
      "provenance": [],
      "authorship_tag": "ABX9TyMTDJOM/KOsPveS9CP4SPNJ",
      "include_colab_link": true
    },
    "kernelspec": {
      "name": "python3",
      "display_name": "Python 3"
    },
    "language_info": {
      "name": "python"
    }
  },
  "cells": [
    {
      "cell_type": "markdown",
      "metadata": {
        "id": "view-in-github",
        "colab_type": "text"
      },
      "source": [
        "<a href=\"https://colab.research.google.com/github/shade-9/python/blob/main/7.ipynb\" target=\"_parent\"><img src=\"https://colab.research.google.com/assets/colab-badge.svg\" alt=\"Open In Colab\"/></a>"
      ]
    },
    {
      "cell_type": "code",
      "execution_count": null,
      "metadata": {
        "id": "9ksQrPm3eqHm"
      },
      "outputs": [],
      "source": [
        "import numpy as np"
      ]
    },
    {
      "cell_type": "code",
      "source": [
        "arr = np.array([[1, 2, 3, 4], [5, 6, 7, 8]])\n",
        "print(arr.shape)"
      ],
      "metadata": {
        "id": "dhFBtIkvfkSz",
        "colab": {
          "base_uri": "https://localhost:8080/"
        },
        "outputId": "29943b8c-0d3e-4e6d-d47b-c26dfa71c1b3"
      },
      "execution_count": null,
      "outputs": [
        {
          "output_type": "stream",
          "name": "stdout",
          "text": [
            "(2, 4)\n"
          ]
        }
      ]
    },
    {
      "cell_type": "code",
      "source": [
        "arr = np.array([1, 2, 3, 4, 5, 6, 7, 8, 9, 10, 11, 12])\n",
        "newarr = arr.reshape(4, 3)\n",
        "print(newarr)"
      ],
      "metadata": {
        "colab": {
          "base_uri": "https://localhost:8080/"
        },
        "id": "ktLi4fSZd7FR",
        "outputId": "136582b2-051b-4269-ffa8-af563a6b7ae4"
      },
      "execution_count": null,
      "outputs": [
        {
          "output_type": "stream",
          "name": "stdout",
          "text": [
            "[[ 1  2  3]\n",
            " [ 4  5  6]\n",
            " [ 7  8  9]\n",
            " [10 11 12]]\n"
          ]
        }
      ]
    },
    {
      "cell_type": "code",
      "source": [
        "arr = np.array([1, 2, 3])\n",
        "for x in arr:\n",
        "  print(x)"
      ],
      "metadata": {
        "colab": {
          "base_uri": "https://localhost:8080/"
        },
        "id": "C6dwIrvZd92v",
        "outputId": "f37b361a-26b4-4214-d555-d77d12d37b03"
      },
      "execution_count": null,
      "outputs": [
        {
          "output_type": "stream",
          "name": "stdout",
          "text": [
            "1\n",
            "2\n",
            "3\n"
          ]
        }
      ]
    },
    {
      "cell_type": "code",
      "source": [
        "arr1 = np.array([1, 2, 3])\n",
        "arr2 = np.array([4, 5, 6])\n",
        "arr = np.concatenate((arr1, arr2))\n",
        "print(arr)"
      ],
      "metadata": {
        "colab": {
          "base_uri": "https://localhost:8080/"
        },
        "id": "6EsBCJIseAie",
        "outputId": "b7a1320c-038f-431d-ea44-c345aa926b1b"
      },
      "execution_count": null,
      "outputs": [
        {
          "output_type": "stream",
          "name": "stdout",
          "text": [
            "[1 2 3 4 5 6]\n"
          ]
        }
      ]
    },
    {
      "cell_type": "code",
      "source": [
        "arr = np.array([1, 2, 3, 4, 5, 6])\n",
        "newarr = np.array_split(arr, 3)\n",
        "print(newarr)"
      ],
      "metadata": {
        "colab": {
          "base_uri": "https://localhost:8080/"
        },
        "id": "LFImxShUeGK-",
        "outputId": "c12c8067-eeac-455e-b7d1-115bdff3a50f"
      },
      "execution_count": null,
      "outputs": [
        {
          "output_type": "stream",
          "name": "stdout",
          "text": [
            "[array([1, 2]), array([3, 4]), array([5, 6])]\n"
          ]
        }
      ]
    },
    {
      "cell_type": "code",
      "source": [
        "arr = np.array([1, 2, 3, 4, 5, 4, 4])\n",
        "x = np.where(arr == 4)\n",
        "print(x)"
      ],
      "metadata": {
        "colab": {
          "base_uri": "https://localhost:8080/"
        },
        "id": "j17ZVyKLeKtt",
        "outputId": "8e1570ff-52a9-4394-91fa-46cf47e650c3"
      },
      "execution_count": null,
      "outputs": [
        {
          "output_type": "stream",
          "name": "stdout",
          "text": [
            "(array([3, 5, 6]),)\n"
          ]
        }
      ]
    },
    {
      "cell_type": "code",
      "source": [
        "arr = np.array([3, 2, 0, 1])\n",
        "print(np.sort(arr))"
      ],
      "metadata": {
        "colab": {
          "base_uri": "https://localhost:8080/"
        },
        "id": "8gxn0-HAeNue",
        "outputId": "99c0bbd4-dd51-4a17-8b18-af83ad1177c6"
      },
      "execution_count": null,
      "outputs": [
        {
          "output_type": "stream",
          "name": "stdout",
          "text": [
            "[0 1 2 3]\n"
          ]
        }
      ]
    },
    {
      "cell_type": "code",
      "source": [
        "arr = np.array([41, 42, 43, 44])\n",
        "x = [True, False, True, False]\n",
        "newarr = arr[x]\n",
        "print(newarr)"
      ],
      "metadata": {
        "colab": {
          "base_uri": "https://localhost:8080/"
        },
        "id": "IeFEVxM9eU6P",
        "outputId": "d4422e6d-a6ab-4852-cef7-2dcfbb697935"
      },
      "execution_count": null,
      "outputs": [
        {
          "output_type": "stream",
          "name": "stdout",
          "text": [
            "[41 43]\n"
          ]
        }
      ]
    },
    {
      "cell_type": "markdown",
      "source": [
        "2. Write a python program to calculate the sum of all columns in a 2D NumPy array."
      ],
      "metadata": {
        "id": "M3uIUq-Ig_nJ"
      }
    },
    {
      "cell_type": "code",
      "source": [
        "import numpy as np\n",
        "\n",
        "data = np.array([[1, 2, 3],\n",
        "                 [4, 5, 6],\n",
        "                 [7, 8, 9]])\n",
        "\n",
        "column_sums = np.sum(data, axis=0)\n",
        "\n",
        "print(\"Sum of all columns:\",column_sums)"
      ],
      "metadata": {
        "colab": {
          "base_uri": "https://localhost:8080/"
        },
        "id": "KnTBKd84eYGN",
        "outputId": "3cc18a47-cbcf-4c65-f699-3f5d36a9c6cd"
      },
      "execution_count": null,
      "outputs": [
        {
          "output_type": "stream",
          "name": "stdout",
          "text": [
            "Sum of all columns: [12 15 18]\n"
          ]
        }
      ]
    },
    {
      "cell_type": "markdown",
      "source": [
        "3. Create two NumPy arrays representing monthly high and low temperatures for a year. Calculate the monthly average temperatures, the overall average high and low temperatures, and identify the months with the highest and lowest average temperatures.\n"
      ],
      "metadata": {
        "id": "PUEa4ODP_iwC"
      }
    },
    {
      "cell_type": "code",
      "source": [
        "high_temps = np.array([25, 28, 30, 32, 35, 38, 40, 37, 33, 29, 27, 24])\n",
        "\n",
        "low_temps = np.array([15, 18, 20, 22, 25, 28, 30, 27, 23, 19, 17, 14])\n",
        "\n",
        "monthly_avg_temps = (high_temps + low_temps) / 2\n",
        "\n",
        "overall_avg_high = np.mean(high_temps)\n",
        "overall_avg_low = np.mean(low_temps)\n",
        "\n",
        "max_avg_temp_month = np.argmax(monthly_avg_temps) + 1\n",
        "min_avg_temp_month = np.argmin(monthly_avg_temps) + 1\n",
        "\n",
        "print(\"Monthly Average Temperatures:\", monthly_avg_temps)\n",
        "print(\"Overall Average High Temperature:\", overall_avg_high)\n",
        "print(\"Overall Average Low Temperature:\", overall_avg_low)\n",
        "print(\"Month with Highest Average Temperature:\", max_avg_temp_month)\n",
        "print(\"Month with Lowest Average Temperature:\", min_avg_temp_month)"
      ],
      "metadata": {
        "id": "seWo_yL0hvbg",
        "colab": {
          "base_uri": "https://localhost:8080/"
        },
        "outputId": "b4ba2ebe-f85f-4d12-b91c-7231e7f84906"
      },
      "execution_count": null,
      "outputs": [
        {
          "output_type": "stream",
          "name": "stdout",
          "text": [
            "Monthly Average Temperatures: [20. 23. 25. 27. 30. 33. 35. 32. 28. 24. 22. 19.]\n",
            "Overall Average High Temperature: 31.5\n",
            "Overall Average Low Temperature: 21.5\n",
            "Month with Highest Average Temperature: 7\n",
            "Month with Lowest Average Temperature: 12\n"
          ]
        }
      ]
    },
    {
      "cell_type": "code",
      "source": [
        "random_integer = np.random.randint(0, 101)\n",
        "\n",
        "print(\"Random Integer:\", random_integer)"
      ],
      "metadata": {
        "colab": {
          "base_uri": "https://localhost:8080/"
        },
        "id": "9xpxE_JC_Qfb",
        "outputId": "bd1f87ae-9d30-4021-d889-9cc5b6a43b77"
      },
      "execution_count": null,
      "outputs": [
        {
          "output_type": "stream",
          "name": "stdout",
          "text": [
            "Random Integer: 41\n"
          ]
        }
      ]
    },
    {
      "cell_type": "code",
      "source": [],
      "metadata": {
        "id": "LLTaMhwMEc2D"
      },
      "execution_count": null,
      "outputs": []
    }
  ]
}